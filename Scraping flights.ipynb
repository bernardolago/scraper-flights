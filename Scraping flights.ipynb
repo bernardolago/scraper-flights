{
 "cells": [
  {
   "cell_type": "code",
   "execution_count": null,
   "id": "1fe0ca30",
   "metadata": {},
   "outputs": [],
   "source": [
    "import requests\n",
    "from bs4 import BeautifulSoup\n",
    "import re\n",
    "from re import search\n",
    "import pandas as pd\n",
    "import numpy as np\n",
    "from datetime import datetime\n",
    "from datetime import timedelta"
   ]
  },
  {
   "cell_type": "code",
   "execution_count": null,
   "id": "a171e2ed",
   "metadata": {
    "scrolled": true
   },
   "outputs": [],
   "source": [
    "full_list = []\n",
    "info_flight = []\n",
    "headers = {'user-agent': 'Mozilla/5.0'}\n",
    "\n",
    "pages = 10\n",
    "\n",
    "for i in range(pages):\n",
    "    arrival_list = BeautifulSoup(requests.get('https://uk.flightaware.com/live/airport/LPPT/arrivals?;offset={};order=actualarrivaltime;sort=DESC'.format(i*20), \n",
    "                                              headers = headers).text, 'html.parser')\n",
    "    arrival_list = arrival_list.find_all('table',{'class':'prettyTable fullWidth'})[0]\n",
    "    arrival_list = arrival_list.find_all('tr')\n",
    "\n",
    "    for i in arrival_list[2:]:\n",
    "        flight_num = i.contents[0].text[1:]\n",
    "        url_flight = 'https://uk.flightaware.com' + i.contents[0].a['href']\n",
    "        url_tracklog = str(requests.get(url_flight, headers = headers).url)\n",
    "        url_tracklog = url_tracklog + '/tracklog'\n",
    "        list_flight = []\n",
    "        list_flight = BeautifulSoup(requests.get(url_tracklog, headers = headers).text, 'html.parser')\n",
    "        list_flight = list_flight.find_all('table',{'class':'prettyTable fullWidth'})[0]\n",
    "        list_flight = list_flight.find_all('tr', {'class': re.compile(\"smallrow[12]\")})\n",
    "\n",
    "        url_flight = requests.get(url_tracklog, allow_redirects=True)\n",
    "\n",
    "        pos = re.search(\"history/\", url_flight.url).end()\n",
    "        day = url_flight.url[pos:pos+8]\n",
    "\n",
    "        if list_flight[3].contents[1].contents[0].text[:3] != list_flight[-1].contents[1].contents[0].text[:3]:\n",
    "            overnight = True\n",
    "        else:\n",
    "            overnight = False\n",
    "        for j in list_flight:\n",
    "            if not 'flight' in j['class'][-1]:\n",
    "                if overnight == True:\n",
    "                    day = datetime.strftime(datetime.strptime(url_flight.url[pos:pos+8], \"%Y%m%d\") + timedelta(days=1), '%Y%m%d')\n",
    "                else: \n",
    "                    day = url_flight.url[pos:pos+8]\n",
    "            \n",
    "                flight_date = flight_num + '_' + day\n",
    "                if datetime.strptime(datetime.strftime(datetime.strptime(day, \"%Y%m%d\") + timedelta(days=-1), '%Y%m%d'), \"%Y%m%d\").strftime('%A')[:3] == j.contents[1].contents[0].text[:3]:\n",
    "                    day_adjustment = datetime.strftime(datetime.strptime(day, \"%Y%m%d\") + timedelta(days=-1), '%Y%m%d')\n",
    "                    event = day_adjustment + j.contents[1].contents[0].text[3:12]\n",
    "                else:\n",
    "                    event = day + j.contents[1].contents[0].text[3:12]\n",
    "                latitude = j.contents[3].contents[0].text\n",
    "                longitude = j.contents[5].contents[0].text\n",
    "                mph = j.contents[13].text\n",
    "                altitude = j.contents[15].contents[0].text\n",
    "                info_flight.append((flight_date, event, latitude, longitude, mph, altitude))\n",
    "\n",
    "        if len(i.contents[1].text) > 0:\n",
    "            aircraft = i.contents[1].text\n",
    "        else:\n",
    "            aircraft = np.nan\n",
    "        if i.contents[2].find('a') is not None:\n",
    "            origin = i.contents[2].find('a').text\n",
    "        else:\n",
    "            origin = np.nan\n",
    "        arrival = day + i.contents[4].text[3:9]\n",
    "        id_flight = flight_date\n",
    "        full_list.append((flight_num, aircraft, origin, arrival, id_flight)) \n",
    "\n",
    "df_flights = pd.DataFrame(full_list, columns=['flight', 'aircraft', 'origin', 'arrival', 'id_flight'])\n",
    "df_flights.to_csv('flights.csv')\n",
    "df_info_flight = pd.DataFrame(info_flight, columns = ['flight_date', 'event', 'latitude', 'longitude', 'mph', 'altitude'])\n",
    "df_info_flight.to_csv('info_flight.csv')"
   ]
  }
 ],
 "metadata": {
  "kernelspec": {
   "display_name": "Python 3",
   "language": "python",
   "name": "python3"
  },
  "language_info": {
   "codemirror_mode": {
    "name": "ipython",
    "version": 3
   },
   "file_extension": ".py",
   "mimetype": "text/x-python",
   "name": "python",
   "nbconvert_exporter": "python",
   "pygments_lexer": "ipython3",
   "version": "3.8.8"
  }
 },
 "nbformat": 4,
 "nbformat_minor": 5
}
